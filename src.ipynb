{
 "cells": [
  {
   "cell_type": "markdown",
   "metadata": {
    "id": "72A5v2Yf7Ryf",
    "colab_type": "text"
   },
   "source": [
    "#Import libraries and preprocess the data"
   ]
  },
  {
   "cell_type": "code",
   "execution_count": 0,
   "metadata": {
    "id": "d9h46_0iI8x7",
    "colab_type": "code",
    "colab": {}
   },
   "outputs": [],
   "source": [
    "'''Import of libraries'''\n",
    "\n",
    "import numpy as np\n",
    "import pandas as pd\n",
    "import matplotlib.pyplot as plt\n",
    "import seaborn as sns\n",
    "from sklearn.model_selection import train_test_split\n",
    "from sklearn.preprocessing import LabelEncoder\n",
    "import keras as kr\n",
    "from sklearn import metrics\n",
    "import itertools\n"
   ]
  },
  {
   "cell_type": "code",
   "execution_count": 0,
   "metadata": {
    "id": "V1WgqgSjJCcq",
    "colab_type": "code",
    "outputId": "ea356d5b-59e1-4bc2-ddb7-affe67f915c9",
    "colab": {
     "base_uri": "https://localhost:8080/",
     "height": 34.0
    }
   },
   "outputs": [
    {
     "name": "stdout",
     "output_type": "stream",
     "text": [
      "Drive already mounted at /content/gdrive; to attempt to forcibly remount, call drive.mount(\"/content/gdrive\", force_remount=True).\n"
     ]
    }
   ],
   "source": [
    "'''Path to the data txt files on disk.'''\n",
    "\n",
    "from google.colab import drive\n",
    "drive.mount('/content/gdrive')\n",
    "\n",
    "data_path = '/content/gdrive/My Drive/Colab Notebooks/namesbystate/'\n"
   ]
  },
  {
   "cell_type": "code",
   "execution_count": 0,
   "metadata": {
    "id": "rXM8JofLJKwy",
    "colab_type": "code",
    "outputId": "81f34917-b579-4520-80d7-79751085ee81",
    "colab": {
     "base_uri": "https://localhost:8080/",
     "height": 1146.0
    }
   },
   "outputs": [
    {
     "name": "stdout",
     "output_type": "stream",
     "text": [
      "      Sex       Name\n",
      "0       F     mariko\n",
      "1       M     torben\n",
      "4       F     emelia\n",
      "5       M      talan\n",
      "6       M    lynwood\n",
      "8       M     hoskie\n",
      "10      M       hung\n",
      "11      F     allyna\n",
      "12      M       akul\n",
      "13      F    nyiesha\n",
      "14      F    lilyona\n",
      "16      F     vernee\n",
      "17      M     donzel\n",
      "18      F    lyndsie\n",
      "21      F      vaani\n",
      "22      F    yexalen\n",
      "23      M    ismaeel\n",
      "24      F    jacklin\n",
      "25      F      nahla\n",
      "27      F  annemarie\n",
      "28      M     joshus\n",
      "29      M  siddhanth\n",
      "30      F    shenise\n",
      "32      F    kamaria\n",
      "33      M    carthel\n",
      "34      F   claramae\n",
      "35      F    xiclaly\n",
      "37      F     janyll\n",
      "38      F     hodaya\n",
      "39      F     amyrie\n",
      "...    ..        ...\n",
      "34288   F    neleigh\n",
      "34290   F    ashante\n",
      "34293   F     hailea\n",
      "34294   F     yasmin\n",
      "34295   F    shanice\n",
      "34296   F     lowana\n",
      "34297   M      jabez\n",
      "34299   F       zela\n",
      "34301   F      kirti\n",
      "34302   M    nickson\n",
      "34303   M    jacobey\n",
      "34304   M    matteus\n",
      "34305   M    mustafe\n",
      "34306   F     lilyth\n",
      "34307   M     zachry\n",
      "34308   M      haruo\n",
      "34310   F      adore\n",
      "34311   M   muhammad\n",
      "34312   F      zetta\n",
      "34313   M     arrion\n",
      "34314   M      anoop\n",
      "34315   F   analissa\n",
      "34316   F    suzzane\n",
      "34317   M      uzair\n",
      "34318   F     elmyra\n",
      "34319   F     devany\n",
      "34320   M       ilai\n",
      "34321   F    trynity\n",
      "34323   F   lorianna\n",
      "34324   F    teressa\n",
      "\n",
      "[28303 rows x 2 columns]\n",
      "(28303, 2)\n"
     ]
    }
   ],
   "source": [
    "'''Import data to programm'''\n",
    "\n",
    "name_of_txt = ['MS.TXT','RI.TXT','WV.TXT','NE.TXT','MA.TXT','NV.TXT','MI.TXT','CO.TXT','HI.TXT','SC.TXT','AL.TXT','MO.TXT','AR.TXT','OR.TXT','IN.TXT',\n",
    "               'IL.TXT','OH.TXT','IA.TXT','KY.TXT','KS.TXT','PA.TXT','FL.TXT','WA.TXT','LA.TXT','NY.TXT','WI.TXT','AZ.TXT','NJ.TXT','CA.TXT','ID.TXT',\n",
    "               'AK.TXT','VA.TXT','TX.TXT','UT.TXT','NM.TXT','ND.TXT','MT.TXT','DE.TXT','GA.TXT','MD.TXT','TN.TXT','OK.TXT','NC.TXT','CT.TXT','SD.TXT',\n",
    "               'VT.TXT','NH.TXT','ME.TXT','WY.TXT','DC.TXT','MN.TXT']\n",
    "frames = []\n",
    "\n",
    "for txt in name_of_txt:\n",
    "  ds = pd.read_csv(data_path+txt, delimiter=\",\",header = None)\n",
    "  frames.append(ds)\n",
    "  #print(txt + \" done\")\n",
    "#print(\"All files imported succesfully.\")\n",
    "\n",
    "\n",
    "dataset = pd.concat(frames)\n",
    "dataset = dataset.drop(columns=[0,2,4])\n",
    "dataset.columns = ['Sex', 'Name']\n",
    "dataset = dataset.drop_duplicates(keep='first')\n",
    "dataset['Name'] = dataset['Name'].str.lower()\n",
    "\n",
    "\n",
    "\n",
    "dataset = dataset.sample(frac=1, axis=0).reset_index(drop=True) #shuffle\n",
    "dataset = dataset.drop_duplicates(subset = 'Name',keep = False)\n",
    "print(dataset)\n",
    "print(dataset.shape)\n"
   ]
  },
  {
   "cell_type": "code",
   "execution_count": 0,
   "metadata": {
    "id": "gYLPMiUsmMXC",
    "colab_type": "code",
    "outputId": "bee70a7e-d601-4bf8-b204-72dc061cbf43",
    "colab": {
     "base_uri": "https://localhost:8080/",
     "height": 1128.0
    }
   },
   "outputs": [
    {
     "name": "stdout",
     "output_type": "stream",
     "text": [
      "      Sex       Name                           encode  sex_labeled\n",
      "0       F     mariko           [12, 0, 17, 8, 10, 14]            0\n",
      "1       M     torben           [19, 14, 17, 1, 4, 13]            1\n",
      "4       F     emelia             [4, 12, 4, 11, 8, 0]            0\n",
      "5       M      talan               [19, 0, 11, 0, 13]            1\n",
      "6       M    lynwood      [11, 24, 13, 22, 14, 14, 3]            1\n",
      "8       M     hoskie            [7, 14, 18, 10, 8, 4]            1\n",
      "10      M       hung                   [7, 20, 13, 6]            1\n",
      "11      F     allyna           [0, 11, 11, 24, 13, 0]            0\n",
      "12      M       akul                  [0, 10, 20, 11]            1\n",
      "13      F    nyiesha         [13, 24, 8, 4, 18, 7, 0]            0\n",
      "14      F    lilyona       [11, 8, 11, 24, 14, 13, 0]            0\n",
      "16      F     vernee            [21, 4, 17, 13, 4, 4]            0\n",
      "17      M     donzel           [3, 14, 13, 25, 4, 11]            1\n",
      "18      F    lyndsie        [11, 24, 13, 3, 18, 8, 4]            0\n",
      "21      F      vaani                [21, 0, 0, 13, 8]            0\n",
      "22      F    yexalen        [24, 4, 23, 0, 11, 4, 13]            0\n",
      "23      M    ismaeel         [8, 18, 12, 0, 4, 4, 11]            1\n",
      "24      F    jacklin         [9, 0, 2, 10, 11, 8, 13]            0\n",
      "25      F      nahla                [13, 0, 7, 11, 0]            0\n",
      "27      F  annemarie  [0, 13, 13, 4, 12, 0, 17, 8, 4]            0\n",
      "28      M     joshus           [9, 14, 18, 7, 20, 18]            1\n",
      "29      M  siddhanth   [18, 8, 3, 3, 7, 0, 13, 19, 7]            1\n",
      "30      F    shenise         [18, 7, 4, 13, 8, 18, 4]            0\n",
      "32      F    kamaria         [10, 0, 12, 0, 17, 8, 0]            0\n",
      "33      M    carthel         [2, 0, 17, 19, 7, 4, 11]            1\n",
      "34      F   claramae      [2, 11, 0, 17, 0, 12, 0, 4]            0\n",
      "35      F    xiclaly        [23, 8, 2, 11, 0, 11, 24]            0\n",
      "37      F     janyll           [9, 0, 13, 24, 11, 11]            0\n",
      "38      F     hodaya             [7, 14, 3, 0, 24, 0]            0\n",
      "39      F     amyrie            [0, 12, 24, 17, 8, 4]            0\n",
      "...    ..        ...                              ...          ...\n",
      "34288   F    neleigh          [13, 4, 11, 4, 8, 6, 7]            0\n",
      "34290   F    ashante         [0, 18, 7, 0, 13, 19, 4]            0\n",
      "34293   F     hailea              [7, 0, 8, 11, 4, 0]            0\n",
      "34294   F     yasmin           [24, 0, 18, 12, 8, 13]            0\n",
      "34295   F    shanice          [18, 7, 0, 13, 8, 2, 4]            0\n",
      "34296   F     lowana           [11, 14, 22, 0, 13, 0]            0\n",
      "34297   M      jabez                 [9, 0, 1, 4, 25]            1\n",
      "34299   F       zela                   [25, 4, 11, 0]            0\n",
      "34301   F      kirti               [10, 8, 17, 19, 8]            0\n",
      "34302   M    nickson       [13, 8, 2, 10, 18, 14, 13]            1\n",
      "34303   M    jacobey          [9, 0, 2, 14, 1, 4, 24]            1\n",
      "34304   M    matteus       [12, 0, 19, 19, 4, 20, 18]            1\n",
      "34305   M    mustafe        [12, 20, 18, 19, 0, 5, 4]            1\n",
      "34306   F     lilyth           [11, 8, 11, 24, 19, 7]            0\n",
      "34307   M     zachry            [25, 0, 2, 7, 17, 24]            1\n",
      "34308   M      haruo               [7, 0, 17, 20, 14]            1\n",
      "34310   F      adore                [0, 3, 14, 17, 4]            0\n",
      "34311   M   muhammad     [12, 20, 7, 0, 12, 12, 0, 3]            1\n",
      "34312   F      zetta               [25, 4, 19, 19, 0]            0\n",
      "34313   M     arrion           [0, 17, 17, 8, 14, 13]            1\n",
      "34314   M      anoop              [0, 13, 14, 14, 15]            1\n",
      "34315   F   analissa     [0, 13, 0, 11, 8, 18, 18, 0]            0\n",
      "34316   F    suzzane       [18, 20, 25, 25, 0, 13, 4]            0\n",
      "34317   M      uzair               [20, 25, 0, 8, 17]            1\n",
      "34318   F     elmyra           [4, 11, 12, 24, 17, 0]            0\n",
      "34319   F     devany            [3, 4, 21, 0, 13, 24]            0\n",
      "34320   M       ilai                    [8, 11, 0, 8]            1\n",
      "34321   F    trynity      [19, 17, 24, 13, 8, 19, 24]            0\n",
      "34323   F   lorianna    [11, 14, 17, 8, 0, 13, 13, 0]            0\n",
      "34324   F    teressa        [19, 4, 17, 4, 18, 18, 0]            0\n",
      "\n",
      "[28303 rows x 4 columns]\n"
     ]
    }
   ],
   "source": [
    "'''Set names from alphabetical encoding to nummerical, e.g. a->1, h->8'''\n",
    "\n",
    "def encode_in_number(word):\n",
    "  return_vector = []\n",
    "  for letter in word:\n",
    "    return_vector.append(ord(letter)-97)\n",
    "  return return_vector\n",
    "\n",
    "def str_to_int(character):\n",
    "  return_value = 0\n",
    "  if(character==\"M\"):\n",
    "    return_value = 1\n",
    "  return return_value\n",
    "\n",
    "dataset['encode'] = dataset['Name'].map(encode_in_number)\n",
    "dataset['sex_labeled'] = dataset['Sex'].map(str_to_int)\n",
    "print(dataset)\n"
   ]
  },
  {
   "cell_type": "code",
   "execution_count": 0,
   "metadata": {
    "id": "f9rOsGE4x9MA",
    "colab_type": "code",
    "colab": {}
   },
   "outputs": [],
   "source": [
    "'''Split to train and test'''\n",
    "\n",
    "msk = np.random.rand(len(dataset)) < 0.8\n",
    "train = dataset[msk]\n",
    "test = dataset[~msk]\n",
    "train_labels = train['sex_labeled']\n",
    "train_data = train['encode']\n",
    "test_labels = test['sex_labeled']\n",
    "test_data = test['encode']\n"
   ]
  },
  {
   "cell_type": "markdown",
   "metadata": {
    "id": "3H28lVAB-asa",
    "colab_type": "text"
   },
   "source": [
    "#Define models and train"
   ]
  },
  {
   "cell_type": "code",
   "execution_count": 0,
   "metadata": {
    "id": "q-pQ53bq2a8M",
    "colab_type": "code",
    "colab": {}
   },
   "outputs": [],
   "source": [
    "'''Models definitions'''\n",
    "\n",
    "max_len = 20  # maximum length of sequence\n",
    "\n",
    "sequences_matrix = kr.preprocessing.sequence.pad_sequences(train_data,maxlen=max_len)\n",
    "\n",
    "def my_deep_LSTM():\n",
    "    inputs = kr.layers.Input(name='inputs',shape=[max_len])  # core layer of inputs\n",
    "    layer1 = kr.layers.Embedding(input_dim=100, output_dim=50, input_length=max_len)(inputs)  # embedding layer, that represents \n",
    "                                                             # letters of words in dense vector representation. Layer will be max_len \n",
    "                                                             # vectors of 50 dim each\n",
    "    layer2 = kr.layers.LSTM(64,return_sequences=True)(layer1)  # LSTM layerwith 64 units (cells)\n",
    "    layer3 = kr.layers.Activation('relu')(layer2)  # activation function (relu) applicated to the layer4\n",
    " \n",
    "    layer4 = kr.layers.LSTM(64,return_sequences=True)(layer3)\n",
    "    layer5 = kr.layers.Activation('relu')(layer4)\n",
    " \n",
    "    layer6 = kr.layers.LSTM(64)(layer5)\n",
    "    layer7 = kr.layers.Activation('relu')(layer6)    \n",
    " \n",
    "    layer8 = kr.layers.Dense(units=2,name='out_layer')(layer7) \n",
    "    layer9 = kr.layers.Activation('softmax')(layer8)\n",
    "    model = kr.models.Model(inputs=inputs,outputs=layer9)  # creates a model from layers above\n",
    "    return model\n",
    "\n",
    "def my_LSTM():\n",
    "    inputs = kr.layers.Input(name='inputs',shape=[max_len])  # core layer of inputs\n",
    "    layer1 = kr.layers.Embedding(input_dim=100, output_dim=50, input_length=max_len)(inputs)  # embedding layer, that represents \n",
    "                                                             # letters of words indense vector representation. Layer will be max_len \n",
    "                                                             # vectors of 50 dim each\n",
    "    layer2 = kr.layers.LSTM(64)(layer1)  # LSTM layerwith 64 units (cells)\n",
    "    layer3 = kr.layers.Dense(units=2,name='out_layer')(layer2)  # this is a classic core layer of perceprtons it takes as input matrix shaped\n",
    "                                                      # as \"layer5\" and returns shape (*, 256). Layer without activation\n",
    "    layer4 = kr.layers.Activation('softmax')(layer3)  # activation function (relu) applicated to the layer4\n",
    "    model = kr.models.Model(inputs=inputs,outputs=layer4)  # creates a model from layers above\n",
    "    return model\n",
    "\n",
    "def my_GRU():\n",
    "    inputs = kr.layers.Input(name='inputs',shape=[max_len])  # core layer of inputs\n",
    "    layer1 = kr.layers.Embedding(input_dim=100, output_dim=50, input_length=max_len)(inputs)  # embedding layer, that represents \n",
    "                                                             # letters of words indense vector representation. Layer will be max_len \n",
    "                                                             # vectors of 50 dim each\n",
    "    layer2 = kr.layers.GRU(64)(layer1)  # LSTM layer with 64 units (cells)\n",
    "    layer3 = kr.layers.Dense(units=2,name='out_layer')(layer2)  # this is a classic core layer of perceprtons it takes as input matrix shaped\n",
    "                                                      # as \"layer5\" and returns shape (*, 256). Layer without activation\n",
    "    layer4 = kr.layers.Activation('softmax')(layer3)  # activation function (relu) applicated to the layer4\n",
    "    model = kr.models.Model(inputs=inputs,outputs=layer4)  # creates a model from layers above\n",
    "    return model\n",
    "\n",
    "def my_simple_RNN():\n",
    "    inputs = kr.layers.Input(name='inputs',shape=[max_len])  # core layer of inputs\n",
    "    layer1 = kr.layers.Embedding(input_dim=100, output_dim=50, input_length=max_len)(inputs)  # embedding layer, that represents \n",
    "                                                             # letters of words indense vector representation. Layer will be max_len \n",
    "                                                             # vectors of 50 dim each\n",
    "    layer2 = kr.layers.SimpleRNN(64)(layer1)  # LSTM layer with 64 units (cells)\n",
    "    layer3 = kr.layers.Dense(units=2,name='out_layer')(layer2)  # this is a classic core layer of perceprtons it takes as input matrix shaped\n",
    "                                                      # as \"layer5\" and returns shape (*, 256). Layer without activation\n",
    "    layer4 = kr.layers.Activation('softmax')(layer3)  # activation function (relu) applicated to the layer4\n",
    "    model = kr.models.Model(inputs=inputs,outputs=layer4)  # creates a model from layers above\n",
    "    return model  \n",
    "  "
   ]
  },
  {
   "cell_type": "code",
   "execution_count": 0,
   "metadata": {
    "id": "yeLBVIKW225b",
    "colab_type": "code",
    "outputId": "3bbcacaf-c8f8-414e-fa51-1d2fc1dd3807",
    "colab": {
     "base_uri": "https://localhost:8080/",
     "height": 312.0
    }
   },
   "outputs": [
    {
     "name": "stdout",
     "output_type": "stream",
     "text": [
      "_________________________________________________________________\n",
      "Layer (type)                 Output Shape              Param #   \n",
      "=================================================================\n",
      "inputs (InputLayer)          (None, 20)                0         \n",
      "_________________________________________________________________\n",
      "embedding_34 (Embedding)     (None, 20, 50)            5000      \n",
      "_________________________________________________________________\n",
      "lstm_30 (LSTM)               (None, 64)                29440     \n",
      "_________________________________________________________________\n",
      "out_layer (Dense)            (None, 2)                 130       \n",
      "_________________________________________________________________\n",
      "activation_42 (Activation)   (None, 2)                 0         \n",
      "=================================================================\n",
      "Total params: 34,570\n",
      "Trainable params: 34,570\n",
      "Non-trainable params: 0\n",
      "_________________________________________________________________\n"
     ]
    }
   ],
   "source": [
    "'''Setting up training'''\n",
    "\n",
    "model = my_LSTM()\n",
    "model.summary()\n",
    "model.compile(loss='sparse_categorical_crossentropy',optimizer=kr.optimizers.RMSprop(),metrics=['accuracy'])\n"
   ]
  },
  {
   "cell_type": "code",
   "execution_count": 0,
   "metadata": {
    "id": "Us8JKx1429u0",
    "colab_type": "code",
    "outputId": "5d82fc82-b360-43fa-ba61-59cca63db3a1",
    "colab": {
     "base_uri": "https://localhost:8080/",
     "height": 1441.0
    }
   },
   "outputs": [
    {
     "name": "stdout",
     "output_type": "stream",
     "text": [
      "Train on 17542 samples, validate on 5094 samples\n",
      "Epoch 1/40\n",
      "17542/17542 [==============================] - 16s 898us/step - loss: 0.4926 - acc: 0.7598 - val_loss: 0.4031 - val_acc: 0.8274\n",
      "Epoch 2/40\n",
      "17542/17542 [==============================] - 12s 657us/step - loss: 0.3973 - acc: 0.8270 - val_loss: 0.4017 - val_acc: 0.8223\n",
      "Epoch 3/40\n",
      "17542/17542 [==============================] - 12s 658us/step - loss: 0.3894 - acc: 0.8290 - val_loss: 0.3913 - val_acc: 0.8327\n",
      "Epoch 4/40\n",
      "17542/17542 [==============================] - 12s 660us/step - loss: 0.3835 - acc: 0.8317 - val_loss: 0.3877 - val_acc: 0.8333\n",
      "Epoch 5/40\n",
      "17542/17542 [==============================] - 11s 654us/step - loss: 0.3788 - acc: 0.8346 - val_loss: 0.3845 - val_acc: 0.8359\n",
      "Epoch 6/40\n",
      "17542/17542 [==============================] - 12s 657us/step - loss: 0.3744 - acc: 0.8373 - val_loss: 0.3785 - val_acc: 0.8378\n",
      "Epoch 7/40\n",
      "17542/17542 [==============================] - 12s 658us/step - loss: 0.3676 - acc: 0.8415 - val_loss: 0.3724 - val_acc: 0.8437\n",
      "Epoch 8/40\n",
      "17542/17542 [==============================] - 12s 661us/step - loss: 0.3608 - acc: 0.8439 - val_loss: 0.3714 - val_acc: 0.8447\n",
      "Epoch 9/40\n",
      "17542/17542 [==============================] - 11s 655us/step - loss: 0.3547 - acc: 0.8473 - val_loss: 0.3601 - val_acc: 0.8465\n",
      "Epoch 10/40\n",
      "17542/17542 [==============================] - 11s 652us/step - loss: 0.3484 - acc: 0.8519 - val_loss: 0.3578 - val_acc: 0.8465\n",
      "Epoch 11/40\n",
      "17542/17542 [==============================] - 11s 649us/step - loss: 0.3432 - acc: 0.8514 - val_loss: 0.3531 - val_acc: 0.8483\n",
      "Epoch 12/40\n",
      "17542/17542 [==============================] - 11s 654us/step - loss: 0.3378 - acc: 0.8556 - val_loss: 0.3532 - val_acc: 0.8522\n",
      "Epoch 13/40\n",
      "17542/17542 [==============================] - 11s 650us/step - loss: 0.3325 - acc: 0.8586 - val_loss: 0.3548 - val_acc: 0.8504\n",
      "Epoch 14/40\n",
      "17542/17542 [==============================] - 11s 653us/step - loss: 0.3280 - acc: 0.8607 - val_loss: 0.3458 - val_acc: 0.8571\n",
      "Epoch 15/40\n",
      "17542/17542 [==============================] - 12s 657us/step - loss: 0.3224 - acc: 0.8649 - val_loss: 0.3431 - val_acc: 0.8530\n",
      "Epoch 16/40\n",
      "17542/17542 [==============================] - 12s 657us/step - loss: 0.3174 - acc: 0.8665 - val_loss: 0.3385 - val_acc: 0.8555\n",
      "Epoch 17/40\n",
      "17542/17542 [==============================] - 11s 651us/step - loss: 0.3126 - acc: 0.8687 - val_loss: 0.3369 - val_acc: 0.8604\n",
      "Epoch 18/40\n",
      "17542/17542 [==============================] - 11s 652us/step - loss: 0.3075 - acc: 0.8722 - val_loss: 0.3316 - val_acc: 0.8587\n",
      "Epoch 19/40\n",
      "17542/17542 [==============================] - 11s 641us/step - loss: 0.3026 - acc: 0.8736 - val_loss: 0.3436 - val_acc: 0.8539\n",
      "Epoch 20/40\n",
      "17542/17542 [==============================] - 11s 654us/step - loss: 0.2985 - acc: 0.8760 - val_loss: 0.3238 - val_acc: 0.8645\n",
      "Epoch 21/40\n",
      "17542/17542 [==============================] - 11s 655us/step - loss: 0.2933 - acc: 0.8773 - val_loss: 0.3250 - val_acc: 0.8687\n",
      "Epoch 22/40\n",
      "17542/17542 [==============================] - 11s 655us/step - loss: 0.2887 - acc: 0.8787 - val_loss: 0.3199 - val_acc: 0.8704\n",
      "Epoch 23/40\n",
      "17542/17542 [==============================] - 11s 655us/step - loss: 0.2828 - acc: 0.8835 - val_loss: 0.3212 - val_acc: 0.8706\n",
      "Epoch 24/40\n",
      "17542/17542 [==============================] - 12s 658us/step - loss: 0.2780 - acc: 0.8846 - val_loss: 0.3161 - val_acc: 0.8710\n",
      "Epoch 25/40\n",
      "17542/17542 [==============================] - 12s 657us/step - loss: 0.2733 - acc: 0.8868 - val_loss: 0.3215 - val_acc: 0.8681\n",
      "Epoch 26/40\n",
      "17542/17542 [==============================] - 12s 658us/step - loss: 0.2678 - acc: 0.8906 - val_loss: 0.3179 - val_acc: 0.8704\n",
      "Epoch 27/40\n",
      "17542/17542 [==============================] - 11s 655us/step - loss: 0.2626 - acc: 0.8920 - val_loss: 0.3114 - val_acc: 0.8718\n",
      "Epoch 28/40\n",
      "17542/17542 [==============================] - 12s 656us/step - loss: 0.2574 - acc: 0.8948 - val_loss: 0.3317 - val_acc: 0.8651\n",
      "Epoch 29/40\n",
      "17542/17542 [==============================] - 12s 661us/step - loss: 0.2530 - acc: 0.8965 - val_loss: 0.3128 - val_acc: 0.8738\n",
      "Epoch 30/40\n",
      "17542/17542 [==============================] - 12s 658us/step - loss: 0.2466 - acc: 0.8992 - val_loss: 0.3087 - val_acc: 0.8751\n",
      "Epoch 31/40\n",
      "17542/17542 [==============================] - 11s 654us/step - loss: 0.2417 - acc: 0.9013 - val_loss: 0.3090 - val_acc: 0.8783\n",
      "Epoch 32/40\n",
      "17542/17542 [==============================] - 11s 654us/step - loss: 0.2359 - acc: 0.9051 - val_loss: 0.3073 - val_acc: 0.8801\n",
      "Epoch 33/40\n",
      "17542/17542 [==============================] - 11s 652us/step - loss: 0.2306 - acc: 0.9070 - val_loss: 0.3114 - val_acc: 0.8720\n",
      "Epoch 34/40\n",
      "17542/17542 [==============================] - 11s 650us/step - loss: 0.2252 - acc: 0.9096 - val_loss: 0.3109 - val_acc: 0.8783\n",
      "Epoch 35/40\n",
      "17542/17542 [==============================] - 11s 649us/step - loss: 0.2200 - acc: 0.9118 - val_loss: 0.3024 - val_acc: 0.8836\n",
      "Epoch 36/40\n",
      "17542/17542 [==============================] - 11s 644us/step - loss: 0.2139 - acc: 0.9158 - val_loss: 0.3181 - val_acc: 0.8783\n",
      "Epoch 37/40\n",
      "17542/17542 [==============================] - 11s 647us/step - loss: 0.2086 - acc: 0.9182 - val_loss: 0.3122 - val_acc: 0.8742\n",
      "Epoch 38/40\n",
      "17542/17542 [==============================] - 11s 652us/step - loss: 0.2026 - acc: 0.9214 - val_loss: 0.3169 - val_acc: 0.8803\n",
      "Epoch 39/40\n",
      "17542/17542 [==============================] - 11s 652us/step - loss: 0.1966 - acc: 0.9223 - val_loss: 0.3137 - val_acc: 0.8791\n",
      "Epoch 40/40\n",
      "17542/17542 [==============================] - 12s 657us/step - loss: 0.1903 - acc: 0.9249 - val_loss: 0.3143 - val_acc: 0.8799\n",
      "dict_keys(['val_loss', 'val_acc', 'loss', 'acc', 'lr'])\n"
     ]
    }
   ],
   "source": [
    "'''Train model'''\n",
    "\n",
    "batch_size = 100\n",
    "epochs = 40\n",
    "validation_split = 0.225\n",
    "\n",
    "history = model.fit(sequences_matrix, train_labels, batch_size=batch_size, epochs=epochs, validation_split=validation_split,\n",
    "          callbacks=[kr.callbacks.ReduceLROnPlateau(monitor='val_loss', factor=0.2, patience=5, min_lr=0.0001)])\n",
    "              #kr.callbacks.EarlyStopping(monitor='val_loss',min_delta=0.0001)])\n",
    "\n",
    "print(history.history.keys())\n"
   ]
  },
  {
   "cell_type": "markdown",
   "metadata": {
    "id": "D3RNgikKB3zr",
    "colab_type": "text"
   },
   "source": [
    "#Test classifier and visualise training "
   ]
  },
  {
   "cell_type": "code",
   "execution_count": 0,
   "metadata": {
    "id": "iqmKPgF7A_6U",
    "colab_type": "code",
    "outputId": "f9d322e6-cea1-466a-d5a5-730484f40373",
    "colab": {
     "base_uri": "https://localhost:8080/",
     "height": 156.0
    }
   },
   "outputs": [
    {
     "name": "stdout",
     "output_type": "stream",
     "text": [
      "5667/5667 [==============================] - 4s 725us/step\n",
      "Test set\n",
      "  Loss: 0.298\n",
      "  Accuracy: 0.893\n",
      "matrix <class 'numpy.ndarray'> (2, 2)\n",
      "[[3241  288]\n",
      " [ 317 1821]]\n",
      "predictions <class 'numpy.ndarray'> (5667, 2)\n"
     ]
    }
   ],
   "source": [
    "'''Test on testing batch'''\n",
    "\n",
    "test_sequences_matrix = kr.preprocessing.sequence.pad_sequences(test_data, maxlen=max_len)\n",
    "\n",
    "accr = model.evaluate(test_sequences_matrix,test_labels)\n",
    "print('Test set\\n  Loss: {:0.3f}\\n  Accuracy: {:0.3f}'.format(accr[0],accr[1]))\n",
    "\n",
    "predictions = model.predict(test_sequences_matrix)\n",
    "matrix = metrics.confusion_matrix(list(test_labels), predictions.argmax(axis=1))\n",
    "print(\"matrix\", type(matrix), matrix.shape)\n",
    "print(matrix)\n",
    "print(\"predictions\", type(predictions), predictions.shape)\n"
   ]
  },
  {
   "cell_type": "code",
   "execution_count": 0,
   "metadata": {
    "id": "UUYTYYHV6Li8",
    "colab_type": "code",
    "outputId": "c20e7d51-a39b-4087-b0e9-7d9de8c5b549",
    "colab": {
     "base_uri": "https://localhost:8080/",
     "height": 785.0
    }
   },
   "outputs": [
    {
     "data": {
      "image/png": "[encoded data removed]",
      "text/plain": [
       "<matplotlib.figure.Figure at 0x7f399e56f1d0>"
      ]
     },
     "metadata": {
      "tags": []
     },
     "output_type": "display_data"
    },
    {
     "data": {
      "image/png": "[encoded data removed]",
      "text/plain": [
       "<matplotlib.figure.Figure at 0x7f399d64fbe0>"
      ]
     },
     "metadata": {
      "tags": []
     },
     "output_type": "display_data"
    }
   ],
   "source": [
    "'''Plot figure acc & cost ~ epoch''' \n",
    "\n",
    "def plot_fancy_figure(x, y1, y2, scale_y1, scale_y2, label_x='x', label_y1='y1', label_y2='y2'):\n",
    "  fig, ax1 = plt.subplots()\n",
    "  ax1.set_xlabel(label_x)\n",
    "  ax1.set_ylabel(label_y1, color='red')\n",
    "  ax1.plot(x, y1, 'o--', color='red')\n",
    "  plt.ylim(scale_y1)\n",
    "  ax1.tick_params(axis='y', labelcolor='red')\n",
    "\n",
    "  ax2 = ax1.twinx()\n",
    "  color = 'tab:blue'\n",
    "  ax2.set_ylabel(label_y2, color='blue')  # we already handled the x-label with ax1\n",
    "  ax2.plot(x, y2, 'o--', color='blue')\n",
    "  #plt.ylim(scale_y2)\n",
    "  ax2.tick_params(axis='y', labelcolor='blue')\n",
    "\n",
    "  plt.grid(linewidth='0')\n",
    "  fig.tight_layout()\n",
    "  plt.show()\n",
    "  \n",
    "  \n",
    "  \n",
    "#dict_keys(['val_loss', 'val_acc', 'loss', 'acc'])\n",
    "plot_fancy_figure(np.arange(0, len(history.history['val_acc'])), history.history['val_acc'],\n",
    "                  history.history['val_loss'], [0.6, 1], 0, 'Epochs', 'Validation accuracy', 'Validation loss')\n",
    "\n",
    "\n",
    "plot_fancy_figure(np.arange(0, len(history.history['acc'])), history.history['acc'],\n",
    "                  history.history['loss'], [0.6, 1], 0, 'Epochs', 'Train accuracy', 'Train loss')\n",
    "\n"
   ]
  },
  {
   "cell_type": "code",
   "execution_count": 0,
   "metadata": {
    "id": "XJ9iCEPFOTM3",
    "colab_type": "code",
    "outputId": "58eb4aae-2d2d-4d07-dbd4-f00f1d986c79",
    "colab": {
     "base_uri": "https://localhost:8080/",
     "height": 401.0
    }
   },
   "outputs": [
    {
     "data": {
      "image/png": "[encoded data removed]",
      "text/plain": [
       "<matplotlib.figure.Figure at 0x7f399e56f7f0>"
      ]
     },
     "metadata": {
      "tags": []
     },
     "output_type": "display_data"
    }
   ],
   "source": [
    "'''Visualise training logs'''\n",
    "\n",
    "def plot_confusion_matrix(cm, classes, normalize=False, title='Confusion matrix', cmap=plt.cm.Blues):\n",
    "    \"\"\"\n",
    "    This function prints and plots the confusion matrix.\n",
    "    Normalization can be applied by setting `normalize=True`.\n",
    "    \"\"\"\n",
    "\n",
    "    plt.imshow(cm, interpolation='nearest', cmap=cmap)\n",
    "    plt.title(title)\n",
    "    plt.colorbar()\n",
    "    tick_marks = np.arange(len(classes))\n",
    "    plt.xticks(tick_marks, classes, rotation=45)\n",
    "    plt.yticks(tick_marks, classes)\n",
    "\n",
    "    fmt = '.2f' if normalize else 'd'\n",
    "    thresh = cm.max() / 2.\n",
    "    for i, j in itertools.product(range(cm.shape[0]), range(cm.shape[1])):\n",
    "        plt.text(j, i, format(cm[i, j], fmt),\n",
    "                 horizontalalignment=\"center\",\n",
    "                 color=\"white\" if cm[i, j] > thresh else \"black\")\n",
    "\n",
    "    plt.ylabel('True label')\n",
    "    plt.xlabel('Predicted label')\n",
    "    plt.tight_layout()\n",
    "\n",
    "plot_confusion_matrix(matrix, sex, title='Confusion matrix')"
   ]
  },
  {
   "cell_type": "code",
   "execution_count": 0,
   "metadata": {
    "id": "oHd7B4IYBA29",
    "colab_type": "code",
    "outputId": "52559d89-6803-4c82-8449-52cdbd27c641",
    "colab": {
     "base_uri": "https://localhost:8080/",
     "height": 104.0
    }
   },
   "outputs": [
    {
     "name": "stdout",
     "output_type": "stream",
     "text": [
      "\r1/1 [==============================] - 0s 14ms/step\n",
      "Test set\n",
      "  Loss: 0.337\n",
      "  Accuracy: 1.000\n",
      "Alex truly recognised as male name.\n"
     ]
    }
   ],
   "source": [
    "'''My test'''\n",
    "\n",
    "my_test = ['Alex'] #names\n",
    "label = [1]\n",
    "sex = [\"female\", \"male\"]\n",
    "a = []\n",
    "for name in my_test:\n",
    "  a.append(encode_in_number(name))\n",
    "a = kr.preprocessing.sequence.pad_sequences(a,maxlen=max_len)\n",
    "\n",
    "\n",
    "accr = model.evaluate(a,label)\n",
    "print('Test set\\n  Loss: {:0.3f}\\n  Accuracy: {:0.3f}'.format(accr[0],accr[1]))\n",
    "\n",
    "if accr[1] == 1:\n",
    "  print(my_test[0], \"truly recognised as\", sex[label[0]], \"name.\")\n",
    "else:\n",
    "  print(my_test[0], \"mistanekly recognised as\", sex[label[0]], \"name.\")\n"
   ]
  }
 ],
 "metadata": {
  "colab": {
   "name": "LSTM.ipynb",
   "version": "0.3.2",
   "provenance": [],
   "collapsed_sections": []
  },
  "kernelspec": {
   "name": "python3",
   "display_name": "Python 3"
  },
  "accelerator": "GPU"
 },
 "nbformat": 4,
 "nbformat_minor": 0
}
